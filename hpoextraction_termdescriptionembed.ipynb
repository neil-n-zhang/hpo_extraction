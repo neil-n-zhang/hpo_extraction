{
 "cells": [
  {
   "cell_type": "code",
   "execution_count": null,
   "id": "b5c0f03c",
   "metadata": {},
   "outputs": [],
   "source": [
    "\n",
    "import json\n",
    "from sentence_transformers import SentenceTransformer, CrossEncoder, util\n",
    "import torch\n",
    "import spacy\n",
    "import numpy as np\n"
   ]
  },
  {
   "cell_type": "code",
   "execution_count": 2,
   "id": "61221410",
   "metadata": {},
   "outputs": [],
   "source": [
    "import json\n",
    "\n",
    "def load_hpo_data(file_path=\"hp.json\"):\n",
    "    \"\"\"\n",
    "    Loads and processes the hp.json file to create a list of HPO term documents.\n",
    "    \"\"\"\n",
    "    with open(file_path, 'r') as f:\n",
    "        data = json.load(f)\n",
    "\n",
    "    hpo_terms = []\n",
    "    nodes = data.get(\"graphs\", [{}])[0].get(\"nodes\", [])\n",
    "\n",
    "    for node in nodes:\n",
    "        # We only care about nodes that are HPO terms (have 'HP_' in their ID)\n",
    "        if 'id' in node and 'HP_' in node['id']:\n",
    "            term_id = node['id'].split('/')[-1].replace('_', ':')\n",
    "            label = node.get('lbl', '')\n",
    "            \n",
    "            definition = \"\"\n",
    "            synonyms = []\n",
    "\n",
    "            # Extract definition and synonyms from the 'meta' field\n",
    "            if 'meta' in node:\n",
    "                if 'definition' in node['meta'].keys():\n",
    "                    definition = node['meta']['definition']['val']\n",
    "                        \n",
    "                synonyms_list = node['meta'].get('synonyms', [])\n",
    "                for synonym in synonyms_list:\n",
    "                    synonyms.append(synonym.get('val', ''))\n",
    "\n",
    "            # Create a combined text document for searching\n",
    "            combined_text = f\"{label}. {definition} {'. '.join(synonyms)}\"\n",
    "            \n",
    "            hpo_terms.append({\n",
    "                \"id\": term_id,\n",
    "                \"label\": label,\n",
    "                \"definition\": definition,\n",
    "                \"synonyms\": synonyms,\n",
    "                \"combined_text\": combined_text\n",
    "            })\n",
    "            \n",
    "    return hpo_terms\n",
    "\n",
    "def find_hpo_terms_bykeyworks(keywords, hpo_embeddings, model, top_k=4):\n",
    "    \"\"\"\n",
    "    Finds the best matching HPO terms for keywords using semantic similarity.\n",
    "    \"\"\"\n",
    "\n",
    "    # 2. Create embeddings for the input keywords\n",
    "    keyword_embeddings = model.encode(keywords, convert_to_tensor=True)\n",
    "\n",
    "    # 3. Compute cosine similarity between keywords and all HPO terms\n",
    "    # This finds the 'top_k' most similar HPO terms for each keyword\n",
    "    cosine_scores = util.cos_sim(keyword_embeddings, hpo_embeddings)\n",
    "    \n",
    "    # top_k_results is a list of lists, one for each keyword\n",
    "    top_k_results = torch.topk(cosine_scores, k=top_k, dim=-1)\n",
    "\n",
    "    results = {}\n",
    "    for i, keyword in enumerate(keywords):\n",
    "        matched_terms = []\n",
    "        for score, idx in zip(top_k_results.values[i], top_k_results.indices[i]):\n",
    "            matched_term = hpo_data[idx]\n",
    "            matched_terms.append({\n",
    "                \"id\": matched_term['id'],\n",
    "                \"label\": matched_term['label'],\n",
    "                \"score\": score.item()\n",
    "            })\n",
    "        results[keyword] = matched_terms\n",
    "        \n",
    "    return results\n",
    "\n",
    "def find_hpo_terms_byparagraph(paragraph, entries, embeddings, model, top_k=10):\n",
    "    \"\"\"Return top-k matching HPO terms for a clinical paragraph.\"\"\"\n",
    "    query_emb = model.encode(paragraph, convert_to_tensor=True)\n",
    "    hits = util.semantic_search(query_emb, embeddings, top_k=top_k)[0]\n",
    "\n",
    "    results = []\n",
    "    for hit in hits:\n",
    "        score = float(hit[\"score\"])\n",
    "        results.append((entries[hit[\"corpus_id\"]][\"id\"], entries[hit[\"corpus_id\"]][\"label\"], score))\n",
    "\n",
    "    return results\n"
   ]
  },
  {
   "cell_type": "markdown",
   "id": "fd0810a7",
   "metadata": {},
   "source": [
    "# Load and embed the HPO terms"
   ]
  },
  {
   "cell_type": "code",
   "execution_count": 3,
   "id": "ea0eaede",
   "metadata": {},
   "outputs": [
    {
     "name": "stdout",
     "output_type": "stream",
     "text": [
      "Loaded 19726 HPO terms.\n",
      "\n",
      "--- Example Term ---\n",
      "{\n",
      "  \"id\": \"HP:0003194\",\n",
      "  \"label\": \"Short nasal bridge\",\n",
      "  \"definition\": \"Decreased superior-inferior length of the nasal bridge, which is the saddle-shaped area that includes the nasal root and the lateral aspects of the nose.\",\n",
      "  \"synonyms\": [\n",
      "    \"Decreased length of bridge of nose\",\n",
      "    \"Decreased length of nasal bridge\",\n",
      "    \"Short bridge of nose\",\n",
      "    \"Short nasal bridge\"\n",
      "  ],\n",
      "  \"combined_text\": \"Short nasal bridge. Decreased superior-inferior length of the nasal bridge, which is the saddle-shaped area that includes the nasal root and the lateral aspects of the nose. Decreased length of bridge of nose. Decreased length of nasal bridge. Short bridge of nose. Short nasal bridge\"\n",
      "}\n"
     ]
    }
   ],
   "source": [
    "# Load the data\n",
    "hpo_data = load_hpo_data(\"hp.json\")\n",
    "print(f\"Loaded {len(hpo_data)} HPO terms.\")\n",
    "\n",
    "# Example of a loaded term\n",
    "print(\"\\n--- Example Term ---\")\n",
    "for term in hpo_data:\n",
    "    if term['id'] == 'HP:0003194': # Muscle cramp\n",
    "        print(json.dumps(term, indent=2))\n",
    "        break"
   ]
  },
  {
   "cell_type": "code",
   "execution_count": 4,
   "id": "1378e277",
   "metadata": {},
   "outputs": [
    {
     "name": "stderr",
     "output_type": "stream",
     "text": [
      "You are trying to use a model that was created with Sentence Transformers version 5.2.0.dev0, but you're currently using version 5.1.1. This might cause unexpected behavior or errors. In that case, try to update to the latest version.\n"
     ]
    }
   ],
   "source": [
    "model = SentenceTransformer(\"sentence-transformers/embeddinggemma-300m-medical\")\n"
   ]
  },
  {
   "cell_type": "code",
   "execution_count": null,
   "id": "c7ec55bb",
   "metadata": {},
   "outputs": [
    {
     "name": "stderr",
     "output_type": "stream",
     "text": [
      "You are trying to use a model that was created with Sentence Transformers version 5.2.0.dev0, but you're currently using version 5.1.1. This might cause unexpected behavior or errors. In that case, try to update to the latest version.\n"
     ]
    },
    {
     "name": "stdout",
     "output_type": "stream",
     "text": [
      "Creating embeddings for HPO terms...\n"
     ]
    },
    {
     "name": "stderr",
     "output_type": "stream",
     "text": [
      "Batches: 100%|██████████| 617/617 [38:14<00:00,  3.72s/it] \n"
     ]
    }
   ],
   "source": [
    "print(\"Creating embeddings for HPO terms...\")\n",
    "hpo_texts = [term['combined_text'] for term in hpo_data]\n",
    "hpo_combinedtext_embeddings = model.encode(hpo_texts, convert_to_tensor=True, show_progress_bar=True)"
   ]
  },
  {
   "cell_type": "code",
   "execution_count": 5,
   "id": "5c083ec4",
   "metadata": {},
   "outputs": [],
   "source": [
    "#torch.save(hpo_combinedtext_embeddings, \"hpo_combinedtext_embeddings.pt\")\n",
    "hpo_combinedtext_embeddings = torch.load(\"hpotermdescription_embeddings_gemma300mmedical.pt\")\n"
   ]
  },
  {
   "cell_type": "code",
   "execution_count": 23,
   "id": "52aee38f",
   "metadata": {},
   "outputs": [
    {
     "name": "stdout",
     "output_type": "stream",
     "text": [
      "Creating embeddings for HPO terms...\n"
     ]
    },
    {
     "name": "stderr",
     "output_type": "stream",
     "text": [
      "Batches: 100%|██████████| 617/617 [13:57<00:00,  1.36s/it]\n"
     ]
    }
   ],
   "source": [
    "print(\"Creating embeddings for HPO terms...\")\n",
    "hpo_labels = [term['label'] for term in hpo_data]\n",
    "hpo_label_embeddings = model.encode(hpo_labels, convert_to_tensor=True, show_progress_bar=True)"
   ]
  },
  {
   "cell_type": "code",
   "execution_count": 24,
   "id": "00a3b70d",
   "metadata": {},
   "outputs": [],
   "source": [
    "torch.save(hpo_label_embeddings, \"hpoterm_embeddings_gemma300mmedical.pt\")\n"
   ]
  },
  {
   "cell_type": "markdown",
   "id": "934d5b07",
   "metadata": {},
   "source": [
    "# Extract key words and perform sematic search"
   ]
  },
  {
   "cell_type": "code",
   "execution_count": 9,
   "id": "9ba40a1c",
   "metadata": {},
   "outputs": [
    {
     "name": "stdout",
     "output_type": "stream",
     "text": [
      "Original Paragraph: 'The patient experienced progressive muscle cramps, paresis, and wasting beginning in one leg and progressing to the other'\n",
      "Extracted Medical Terms: ['patient', 'progressive', 'muscle cramps', 'paresis', 'wasting', 'leg', 'progressing']\n"
     ]
    }
   ],
   "source": [
    "# Load the small scispaCy model\n",
    "# This model is trained on biomedical text and is good for entity detection.\n",
    "nlp = spacy.load(\"./en_core_sci_md-0.5.4/en_core_sci_md/en_core_sci_md-0.5.4\")\n",
    "\n",
    "paragraph = \"The patient experienced progressive muscle cramps, paresis, and wasting beginning in one leg and progressing to the other\"\n",
    "\n",
    "# Process the paragraph with the scispaCy model\n",
    "doc = nlp(paragraph)\n",
    "\n",
    "# Extract entities (medical terms)\n",
    "extracted_terms = [ent.text for ent in doc.ents]\n",
    "\n",
    "print(f\"Original Paragraph: '{paragraph}'\")\n",
    "print(f\"Extracted Medical Terms: {extracted_terms}\")"
   ]
  },
  {
   "cell_type": "code",
   "execution_count": 31,
   "id": "38baeac4",
   "metadata": {},
   "outputs": [
    {
     "name": "stdout",
     "output_type": "stream",
     "text": [
      "\n",
      "--- Semantic Search Results ---\n",
      "{\n",
      "  \"patient\": [\n",
      "    {\n",
      "      \"id\": \"HP:0011510\",\n",
      "      \"label\": \"Drusen\",\n",
      "      \"score\": 0.9044458866119385\n",
      "    },\n",
      "    {\n",
      "      \"id\": \"HP:0012834\",\n",
      "      \"label\": \"Right\",\n",
      "      \"score\": 0.9007444977760315\n",
      "    },\n",
      "    {\n",
      "      \"id\": \"HP:0012835\",\n",
      "      \"label\": \"Left\",\n",
      "      \"score\": 0.8988599181175232\n",
      "    },\n",
      "    {\n",
      "      \"id\": \"HP:0032322\",\n",
      "      \"label\": \"Healthy\",\n",
      "      \"score\": 0.8930355906486511\n",
      "    }\n",
      "  ],\n",
      "  \"progressive\": [\n",
      "    {\n",
      "      \"id\": \"HP:0003680\",\n",
      "      \"label\": \"Nonprogressive\",\n",
      "      \"score\": 0.9526521563529968\n",
      "    },\n",
      "    {\n",
      "      \"id\": \"HP:0012835\",\n",
      "      \"label\": \"Left\",\n",
      "      \"score\": 0.9334932565689087\n",
      "    },\n",
      "    {\n",
      "      \"id\": \"HP:0003676\",\n",
      "      \"label\": \"Progressive\",\n",
      "      \"score\": 0.9278656244277954\n",
      "    },\n",
      "    {\n",
      "      \"id\": \"HP:0012834\",\n",
      "      \"label\": \"Right\",\n",
      "      \"score\": 0.9247534275054932\n",
      "    }\n",
      "  ],\n",
      "  \"muscle cramps\": [\n",
      "    {\n",
      "      \"id\": \"HP:0003449\",\n",
      "      \"label\": \"Cold-induced muscle cramps\",\n",
      "      \"score\": 0.9104836583137512\n",
      "    },\n",
      "    {\n",
      "      \"id\": \"HP:0003710\",\n",
      "      \"label\": \"Exercise-induced muscle cramps\",\n",
      "      \"score\": 0.8875156044960022\n",
      "    },\n",
      "    {\n",
      "      \"id\": \"HP:0003394\",\n",
      "      \"label\": \"Muscle spasm\",\n",
      "      \"score\": 0.879761278629303\n",
      "    },\n",
      "    {\n",
      "      \"id\": \"HP:0003435\",\n",
      "      \"label\": \"Cold-induced hand cramps\",\n",
      "      \"score\": 0.8357963562011719\n",
      "    }\n",
      "  ],\n",
      "  \"paresis\": [\n",
      "    {\n",
      "      \"id\": \"HP:0001269\",\n",
      "      \"label\": \"Hemiparesis\",\n",
      "      \"score\": 0.8994793891906738\n",
      "    },\n",
      "    {\n",
      "      \"id\": \"HP:0003470\",\n",
      "      \"label\": \"Paralysis\",\n",
      "      \"score\": 0.8895684480667114\n",
      "    },\n",
      "    {\n",
      "      \"id\": \"HP:0012830\",\n",
      "      \"label\": \"Position\",\n",
      "      \"score\": 0.8895355463027954\n",
      "    },\n",
      "    {\n",
      "      \"id\": \"HP:0012835\",\n",
      "      \"label\": \"Left\",\n",
      "      \"score\": 0.8856886625289917\n",
      "    }\n",
      "  ],\n",
      "  \"wasting\": [\n",
      "    {\n",
      "      \"id\": \"HP:6001050\",\n",
      "      \"label\": \"Whorled\",\n",
      "      \"score\": 0.8817695379257202\n",
      "    },\n",
      "    {\n",
      "      \"id\": \"HP:0012835\",\n",
      "      \"label\": \"Left\",\n",
      "      \"score\": 0.8690899610519409\n",
      "    },\n",
      "    {\n",
      "      \"id\": \"HP:0025305\",\n",
      "      \"label\": \"Quotidian\",\n",
      "      \"score\": 0.8677423596382141\n",
      "    },\n",
      "    {\n",
      "      \"id\": \"HP:0040280\",\n",
      "      \"label\": \"Obligate\",\n",
      "      \"score\": 0.8668026924133301\n",
      "    }\n",
      "  ],\n",
      "  \"leg\": [\n",
      "    {\n",
      "      \"id\": \"HP:0012834\",\n",
      "      \"label\": \"Right\",\n",
      "      \"score\": 0.913393497467041\n",
      "    },\n",
      "    {\n",
      "      \"id\": \"HP:0025275\",\n",
      "      \"label\": \"Lateral\",\n",
      "      \"score\": 0.9122455716133118\n",
      "    },\n",
      "    {\n",
      "      \"id\": \"HP:0012835\",\n",
      "      \"label\": \"Left\",\n",
      "      \"score\": 0.9086235165596008\n",
      "    },\n",
      "    {\n",
      "      \"id\": \"HP:0005736\",\n",
      "      \"label\": \"Short tibia\",\n",
      "      \"score\": 0.9060133695602417\n",
      "    }\n",
      "  ],\n",
      "  \"progressing\": [\n",
      "    {\n",
      "      \"id\": \"HP:0003676\",\n",
      "      \"label\": \"Progressive\",\n",
      "      \"score\": 0.9505489468574524\n",
      "    },\n",
      "    {\n",
      "      \"id\": \"HP:0012835\",\n",
      "      \"label\": \"Left\",\n",
      "      \"score\": 0.894375205039978\n",
      "    },\n",
      "    {\n",
      "      \"id\": \"HP:5200057\",\n",
      "      \"label\": \"Limited pointing\",\n",
      "      \"score\": 0.8923629522323608\n",
      "    },\n",
      "    {\n",
      "      \"id\": \"HP:5200038\",\n",
      "      \"label\": \"Bradylalia\",\n",
      "      \"score\": 0.8890047073364258\n",
      "    }\n",
      "  ]\n",
      "}\n"
     ]
    }
   ],
   "source": [
    "# --- Run the semantic search ---\n",
    "\n",
    "print(\"\\n--- Semantic Search Results ---\")\n",
    "semantic_results = find_hpo_terms_bykeyworks(extracted_terms, hpo_label_embeddings, model)\n",
    "print(json.dumps(semantic_results, indent=2))"
   ]
  },
  {
   "cell_type": "code",
   "execution_count": null,
   "id": "3760b979",
   "metadata": {},
   "outputs": [
    {
     "name": "stdout",
     "output_type": "stream",
     "text": [
      "\n",
      "--- Semantic Search Results ---\n",
      "{\n",
      "  \"patient\": [\n",
      "    {\n",
      "      \"id\": \"HP:0000001\",\n",
      "      \"label\": \"All\",\n",
      "      \"score\": 0.8601305484771729\n",
      "    },\n",
      "    {\n",
      "      \"id\": \"HP:0001050\",\n",
      "      \"label\": \"Plethora\",\n",
      "      \"score\": 0.8398342132568359\n",
      "    },\n",
      "    {\n",
      "      \"id\": \"HP:0003989\",\n",
      "      \"label\": \"Notched ulna\",\n",
      "      \"score\": 0.8355245590209961\n",
      "    },\n",
      "    {\n",
      "      \"id\": \"HP:0003990\",\n",
      "      \"label\": \"Pointed ulna\",\n",
      "      \"score\": 0.8233039379119873\n",
      "    }\n",
      "  ],\n",
      "  \"progressive\": [\n",
      "    {\n",
      "      \"id\": \"HP:0000001\",\n",
      "      \"label\": \"All\",\n",
      "      \"score\": 0.8942227363586426\n",
      "    },\n",
      "    {\n",
      "      \"id\": \"HP:0001050\",\n",
      "      \"label\": \"Plethora\",\n",
      "      \"score\": 0.8676424622535706\n",
      "    },\n",
      "    {\n",
      "      \"id\": \"HP:0003990\",\n",
      "      \"label\": \"Pointed ulna\",\n",
      "      \"score\": 0.8571158647537231\n",
      "    },\n",
      "    {\n",
      "      \"id\": \"HP:0003989\",\n",
      "      \"label\": \"Notched ulna\",\n",
      "      \"score\": 0.851737916469574\n",
      "    }\n",
      "  ],\n",
      "  \"muscle cramps\": [\n",
      "    {\n",
      "      \"id\": \"HP:0003435\",\n",
      "      \"label\": \"Cold-induced hand cramps\",\n",
      "      \"score\": 0.8297331929206848\n",
      "    },\n",
      "    {\n",
      "      \"id\": \"HP:0003394\",\n",
      "      \"label\": \"Muscle spasm\",\n",
      "      \"score\": 0.7835233211517334\n",
      "    },\n",
      "    {\n",
      "      \"id\": \"HP:0031988\",\n",
      "      \"label\": \"obsolete Muscle spasm\",\n",
      "      \"score\": 0.7822794914245605\n",
      "    },\n",
      "    {\n",
      "      \"id\": \"HP:0003427\",\n",
      "      \"label\": \"Thenar muscle weakness\",\n",
      "      \"score\": 0.7481958270072937\n",
      "    }\n",
      "  ],\n",
      "  \"paresis\": [\n",
      "    {\n",
      "      \"id\": \"HP:0000001\",\n",
      "      \"label\": \"All\",\n",
      "      \"score\": 0.8537691831588745\n",
      "    },\n",
      "    {\n",
      "      \"id\": \"HP:0001050\",\n",
      "      \"label\": \"Plethora\",\n",
      "      \"score\": 0.8412559628486633\n",
      "    },\n",
      "    {\n",
      "      \"id\": \"HP:0003989\",\n",
      "      \"label\": \"Notched ulna\",\n",
      "      \"score\": 0.8334758281707764\n",
      "    },\n",
      "    {\n",
      "      \"id\": \"HP:0003990\",\n",
      "      \"label\": \"Pointed ulna\",\n",
      "      \"score\": 0.8290867805480957\n",
      "    }\n",
      "  ],\n",
      "  \"wasting\": [\n",
      "    {\n",
      "      \"id\": \"HP:0000001\",\n",
      "      \"label\": \"All\",\n",
      "      \"score\": 0.8506587743759155\n",
      "    },\n",
      "    {\n",
      "      \"id\": \"HP:0001050\",\n",
      "      \"label\": \"Plethora\",\n",
      "      \"score\": 0.8417980670928955\n",
      "    },\n",
      "    {\n",
      "      \"id\": \"HP:0003989\",\n",
      "      \"label\": \"Notched ulna\",\n",
      "      \"score\": 0.8140219449996948\n",
      "    },\n",
      "    {\n",
      "      \"id\": \"HP:0003990\",\n",
      "      \"label\": \"Pointed ulna\",\n",
      "      \"score\": 0.801920473575592\n",
      "    }\n",
      "  ],\n",
      "  \"leg\": [\n",
      "    {\n",
      "      \"id\": \"HP:0000001\",\n",
      "      \"label\": \"All\",\n",
      "      \"score\": 0.8673211336135864\n",
      "    },\n",
      "    {\n",
      "      \"id\": \"HP:0006471\",\n",
      "      \"label\": \"Fixed elbow flexion\",\n",
      "      \"score\": 0.8603381514549255\n",
      "    },\n",
      "    {\n",
      "      \"id\": \"HP:0006376\",\n",
      "      \"label\": \"Limited elbow flexion\",\n",
      "      \"score\": 0.8570907711982727\n",
      "    },\n",
      "    {\n",
      "      \"id\": \"HP:0003989\",\n",
      "      \"label\": \"Notched ulna\",\n",
      "      \"score\": 0.8468509316444397\n",
      "    }\n",
      "  ],\n",
      "  \"progressing\": [\n",
      "    {\n",
      "      \"id\": \"HP:0000001\",\n",
      "      \"label\": \"All\",\n",
      "      \"score\": 0.8527030348777771\n",
      "    },\n",
      "    {\n",
      "      \"id\": \"HP:0001050\",\n",
      "      \"label\": \"Plethora\",\n",
      "      \"score\": 0.8432806730270386\n",
      "    },\n",
      "    {\n",
      "      \"id\": \"HP:0003990\",\n",
      "      \"label\": \"Pointed ulna\",\n",
      "      \"score\": 0.8104968667030334\n",
      "    },\n",
      "    {\n",
      "      \"id\": \"HP:0003989\",\n",
      "      \"label\": \"Notched ulna\",\n",
      "      \"score\": 0.8101891279220581\n",
      "    }\n",
      "  ]\n",
      "}\n"
     ]
    }
   ],
   "source": [
    "# --- Run the semantic search ---\n",
    "\n",
    "print(\"\\n--- Semantic Search Results ---\")\n",
    "semantic_results = find_hpo_terms_bykeyworks(extracted_terms, hpo_combinedtext_embeddings, model)\n",
    "print(json.dumps(semantic_results, indent=2))"
   ]
  },
  {
   "cell_type": "markdown",
   "id": "1c40aabe",
   "metadata": {},
   "source": [
    "# Direct sematic search"
   ]
  },
  {
   "cell_type": "code",
   "execution_count": 27,
   "id": "9562ffac",
   "metadata": {},
   "outputs": [
    {
     "data": {
      "text/plain": [
       "[('HP:0011964', 'Intermittent painful muscle spasms', 0.7256890535354614),\n",
       " ('HP:0003449', 'Cold-induced muscle cramps', 0.7083907723426819),\n",
       " ('HP:0003710', 'Exercise-induced muscle cramps', 0.6930332183837891),\n",
       " ('HP:0008991', 'Exercise-induced leg cramps', 0.6804571151733398),\n",
       " ('HP:0009028', 'Generalized weakness of limb muscles', 0.6717520356178284),\n",
       " ('HP:0003394', 'Muscle spasm', 0.65623939037323),\n",
       " ('HP:0003435', 'Cold-induced hand cramps', 0.6464894413948059),\n",
       " ('HP:0030200',\n",
       "  'Fatiguable weakness of proximal limb muscles',\n",
       "  0.6364095211029053),\n",
       " ('HP:0031988', 'obsolete Muscle spasm', 0.6358648538589478),\n",
       " ('HP:0008994', 'Proximal muscle weakness in lower limbs', 0.6330800652503967),\n",
       " ('HP:0007098', 'Paroxysmal choreoathetosis', 0.6318628787994385),\n",
       " ('HP:0007166', 'Paroxysmal dyskinesia', 0.6299142241477966),\n",
       " ('HP:0030198',\n",
       "  'Fatigable weakness of distal limb muscles',\n",
       "  0.6261293888092041),\n",
       " ('HP:0003324', 'Generalized muscle weakness', 0.6261209845542908),\n",
       " ('HP:0031750', 'Lateral rectus muscle weakness', 0.6257612705230713)]"
      ]
     },
     "execution_count": 27,
     "metadata": {},
     "output_type": "execute_result"
    }
   ],
   "source": [
    "find_hpo_terms_byparagraph(\"The patient experienced progressive muscle cramps, paresis, and wasting beginning in one leg and progressing to the other\", hpo_data, hpo_label_embeddings, model, top_k=15)\n"
   ]
  },
  {
   "cell_type": "code",
   "execution_count": 18,
   "id": "218cf1b4",
   "metadata": {},
   "outputs": [
    {
     "data": {
      "text/plain": [
       "[('HP:0008991', 'Exercise-induced leg cramps', 0.8124040961265564),\n",
       " ('HP:0003394', 'Muscle spasm', 0.784591019153595),\n",
       " ('HP:0011964', 'Intermittent painful muscle spasms', 0.7735278606414795),\n",
       " ('HP:0003710', 'Exercise-induced muscle cramps', 0.7723671197891235),\n",
       " ('HP:0003752', 'Episodic flaccid weakness', 0.7366074919700623),\n",
       " ('HP:0032155', 'Abdominal cramps', 0.7193395495414734),\n",
       " ('HP:0003435', 'Cold-induced hand cramps', 0.6904074549674988),\n",
       " ('HP:0031989', 'Perioral spasm', 0.6882120370864868),\n",
       " ('HP:0001264', 'Spastic diplegia', 0.6840314269065857),\n",
       " ('HP:0031988', 'obsolete Muscle spasm', 0.6814048290252686),\n",
       " ('HP:0031959', 'Leg dystonia', 0.679900586605072),\n",
       " ('HP:0009063', 'Progressive distal muscle weakness', 0.6756155490875244),\n",
       " ('HP:0003552', 'Muscle stiffness', 0.6689462661743164),\n",
       " ('HP:0003323', 'Progressive muscle weakness', 0.6657924056053162),\n",
       " ('HP:0009028', 'Generalized weakness of limb muscles', 0.6656557321548462)]"
      ]
     },
     "execution_count": 18,
     "metadata": {},
     "output_type": "execute_result"
    }
   ],
   "source": [
    "find_hpo_terms_byparagraph(\"The patient experienced progressive muscle cramps, paresis, and wasting beginning in one leg and progressing to the other\", hpo_data, hpo_combinedtext_embeddings, model, top_k=15)\n"
   ]
  },
  {
   "cell_type": "code",
   "execution_count": 6,
   "id": "99b91e54",
   "metadata": {},
   "outputs": [
    {
     "data": {
      "text/plain": [
       "[('HP:0003752', 'Episodic flaccid weakness', 0.44257399439811707),\n",
       " ('HP:0003324', 'Generalized muscle weakness', 0.44253167510032654),\n",
       " ('HP:0003700', 'Generalized amyotrophy', 0.43646830320358276),\n",
       " ('HP:0003458', 'EMG: myopathic abnormalities', 0.4346015751361847),\n",
       " ('HP:0009055', 'Generalized limb muscle atrophy', 0.43245625495910645),\n",
       " ('HP:0009786',\n",
       "  'Aplasia/Hypoplasia of the musculature of the thigh',\n",
       "  0.4285629391670227),\n",
       " ('HP:0009128',\n",
       "  'Aplasia/Hypoplasia involving the musculature of the extremities',\n",
       "  0.42566972970962524),\n",
       " ('HP:0010550', 'Paraplegia', 0.4250236749649048),\n",
       " ('HP:0011099', 'Spastic hemiparesis', 0.42474237084388733),\n",
       " ('HP:0012898',\n",
       "  'Abnormal lower-limb motor evoked potentials',\n",
       "  0.4233229160308838),\n",
       " ('HP:0003011', 'Abnormality of the musculature', 0.42185574769973755),\n",
       " ('HP:0003693', 'Distal amyotrophy', 0.418703556060791),\n",
       " ('HP:0008994',\n",
       "  'Proximal muscle weakness in lower limbs',\n",
       "  0.41792264580726624),\n",
       " ('HP:0031959', 'Leg dystonia', 0.41736337542533875),\n",
       " ('HP:0007002', 'Motor axonal neuropathy', 0.4165663719177246)]"
      ]
     },
     "execution_count": 6,
     "metadata": {},
     "output_type": "execute_result"
    }
   ],
   "source": [
    "whole_paragragh=\"at the age of 22, 5 years this German woman experienced muscle cramps, progressive paresis and muscle wasting beginning in one leg and spreading to the other leg without sensory, autonomic or cognitive symptoms. A myopathy was initially suspected but EMG revealed acute and chronic signs of denervation mostly in the legs but also slightly in the upper limbs. Transcortical magnetic evoked potential (MEP) examination was pathological with delayed central conductance time to both lower limbs but not to the upper limbs. Peripheral nerve conduction studies were normal. The medical history was unremarkable except for a voluntarily weight loss of ≈10 kg in the years before appearance of muscle symptoms. Both the parents have diabetes mellitus type 2, but there is no family history of a neuromuscular disease (NMD) or FTD-like condition. The patient eventually received a diagnosis of sALS. The disease has developed slowly, symptoms and signs of upper motor neuron (UMN) and lower motor neuron (LMN) damage only appearing in the upper limbs 3 years after onset in the lower limbs. Nine years after onset of paresis, the patient is alive and still show no bulbar symptoms.\"\n",
    "\n",
    "find_hpo_terms_byparagraph(whole_paragragh, hpo_data, hpo_combinedtext_embeddings, model, top_k=15)\n"
   ]
  },
  {
   "cell_type": "code",
   "execution_count": null,
   "id": "1450ecbd",
   "metadata": {},
   "outputs": [],
   "source": [
    "# Save the initial hits as a json file to be re-ranked using gemini\n",
    "retrieval_hits=find_hpo_terms_byparagraph(whole_paragragh, hpo_data, hpo_combinedtext_embeddings, model, top_k=100)\n",
    "hpo_hits_json=[{'id':x[0], 'label':x[1]} for x in retrieval_hits]"
   ]
  },
  {
   "cell_type": "code",
   "execution_count": 11,
   "id": "5781fbd2",
   "metadata": {},
   "outputs": [],
   "source": [
    "with open('hpo_hits.json', 'w') as f:\n",
    "    json.dump(hpo_hits_json, f, indent=4)"
   ]
  },
  {
   "cell_type": "markdown",
   "id": "52dd7218",
   "metadata": {},
   "source": [
    "# Re-rank with cross-encoder"
   ]
  },
  {
   "cell_type": "code",
   "execution_count": 4,
   "id": "023831aa",
   "metadata": {},
   "outputs": [],
   "source": [
    "cross_encoder = CrossEncoder('cross-encoder/ms-marco-MiniLM-L6-v2')"
   ]
  },
  {
   "cell_type": "code",
   "execution_count": 50,
   "id": "02fa6cd5",
   "metadata": {},
   "outputs": [],
   "source": [
    "def rerank_crossencoder(query, retrieval_hits, hpo_data=hpo_data):\n",
    "    hpo_initialhits=[x for x in hpo_data if x['id'] in [x[0] for x in retrieval_hits]]\n",
    "    hit_texts = [hit['combined_text'] for hit in hpo_initialhits]\n",
    "    sentence_pairs = [[query, hit_text] for hit_text in hit_texts]\n",
    "\n",
    "\n",
    "    # --- 4. Predict Scores ---\n",
    "    print(\"\\nCalculating scores...\")\n",
    "    scores = cross_encoder.predict(sentence_pairs)\n",
    "\n",
    "\n",
    "    # --- 5. Combine and Sort Results ---\n",
    "    # Combine scores with the original hit data\n",
    "    results = []\n",
    "    for score, hit in zip(scores, hpo_initialhits):\n",
    "        results.append({\n",
    "            'score': score,\n",
    "            'hit': hit\n",
    "        })\n",
    "\n",
    "    # Sort results by score in descending order (highest score first)\n",
    "    sorted_results = sorted(results, key=lambda x: x['score'], reverse=True)\n",
    "\n",
    "    # --- 6. Output Results ---\n",
    "    print(\"\\n--- Results ---\")\n",
    "    print(f\"Query: '{query}'\\n\")\n",
    "\n",
    "    print(\"All Scores (Sorted High to Low):\")\n",
    "    for i, result in enumerate(sorted_results):\n",
    "        hit = result['hit']\n",
    "        score = result['score']\n",
    "        # Print rank, score, label, and original ID\n",
    "        print(f\"  Rank {i+1} | Score: {score:.4f} | Label: {hit['label']} (ID: {hit['id']})\")\n"
   ]
  },
  {
   "cell_type": "code",
   "execution_count": 57,
   "id": "67b2fd0c",
   "metadata": {},
   "outputs": [
    {
     "name": "stdout",
     "output_type": "stream",
     "text": [
      "\n",
      "Calculating scores...\n",
      "\n",
      "--- Results ---\n",
      "Query: 'The patient experienced progressive muscle cramps, paresis, and wasting beginning in one leg and progressing to the other'\n",
      "\n",
      "All Scores (Sorted High to Low):\n",
      "  Rank 1 | Score: -2.2715 | Label: Exercise-induced leg cramps (ID: HP:0008991)\n",
      "  Rank 2 | Score: -3.2747 | Label: Progressive muscle weakness (ID: HP:0003323)\n",
      "  Rank 3 | Score: -3.7511 | Label: Progressive distal muscle weakness (ID: HP:0009063)\n",
      "  Rank 4 | Score: -4.0665 | Label: Muscle spasm (ID: HP:0003394)\n",
      "  Rank 5 | Score: -4.4606 | Label: Progressive proximal muscle weakness (ID: HP:0009073)\n",
      "  Rank 6 | Score: -4.6834 | Label: Exercise-induced muscle cramps (ID: HP:0003710)\n",
      "  Rank 7 | Score: -5.1151 | Label: Cold-induced muscle cramps (ID: HP:0003449)\n",
      "  Rank 8 | Score: -6.8404 | Label: Periodic paralysis (ID: HP:0003768)\n",
      "  Rank 9 | Score: -7.0826 | Label: Cold-induced hand cramps (ID: HP:0003435)\n",
      "  Rank 10 | Score: -7.2706 | Label: obsolete Muscle spasm (ID: HP:0031988)\n",
      "  Rank 11 | Score: -7.2954 | Label: Intermittent painful muscle spasms (ID: HP:0011964)\n",
      "  Rank 12 | Score: -7.3483 | Label: Abdominal cramps (ID: HP:0032155)\n",
      "  Rank 13 | Score: -7.6459 | Label: Episodic flaccid weakness (ID: HP:0003752)\n",
      "  Rank 14 | Score: -7.6937 | Label: Spastic diplegia (ID: HP:0001264)\n",
      "  Rank 15 | Score: -8.1539 | Label: Leg dystonia (ID: HP:0031959)\n",
      "  Rank 16 | Score: -8.3537 | Label: Myalgia (ID: HP:0003326)\n",
      "  Rank 17 | Score: -8.4153 | Label: Generalized weakness of limb muscles (ID: HP:0009028)\n",
      "  Rank 18 | Score: -8.7265 | Label: Spastic triplegia (ID: HP:0034183)\n",
      "  Rank 19 | Score: -9.0491 | Label: Muscle stiffness (ID: HP:0003552)\n",
      "  Rank 20 | Score: -9.5765 | Label: Perioral spasm (ID: HP:0031989)\n"
     ]
    }
   ],
   "source": [
    "query=\"The patient experienced progressive muscle cramps, paresis, and wasting beginning in one leg and progressing to the other\"\n",
    "retrieval_hits=find_hpo_terms_byparagraph(query, hpo_data, hpo_combinedtext_embeddings, model, top_k=20)\n",
    "rerank_crossencoder(query,retrieval_hits)"
   ]
  },
  {
   "cell_type": "code",
   "execution_count": 58,
   "id": "f62b7bb2",
   "metadata": {},
   "outputs": [
    {
     "name": "stdout",
     "output_type": "stream",
     "text": [
      "\n",
      "Calculating scores...\n",
      "\n",
      "--- Results ---\n",
      "Query: 'at the age of 22, 5 years this German woman experienced muscle cramps, progressive paresis and muscle wasting beginning in one leg and spreading to the other leg without sensory, autonomic or cognitive symptoms. A myopathy was initially suspected but EMG revealed acute and chronic signs of denervation mostly in the legs but also slightly in the upper limbs. Transcortical magnetic evoked potential (MEP) examination was pathological with delayed central conductance time to both lower limbs but not to the upper limbs. Peripheral nerve conduction studies were normal. The medical history was unremarkable except for a voluntarily weight loss of ≈10 kg in the years before appearance of muscle symptoms. Both the parents have diabetes mellitus type 2, but there is no family history of a neuromuscular disease (NMD) or FTD-like condition. The patient eventually received a diagnosis of sALS. The disease has developed slowly, symptoms and signs of upper motor neuron (UMN) and lower motor neuron (LMN) damage only appearing in the upper limbs 3 years after onset in the lower limbs. Nine years after onset of paresis, the patient is alive and still show no bulbar symptoms.'\n",
      "\n",
      "All Scores (Sorted High to Low):\n",
      "  Rank 1 | Score: -6.8862 | Label: Distal muscle weakness (ID: HP:0002460)\n",
      "  Rank 2 | Score: -6.9028 | Label: Proximal muscle weakness in lower limbs (ID: HP:0008994)\n",
      "  Rank 3 | Score: -7.1571 | Label: Leg dystonia (ID: HP:0031959)\n",
      "  Rank 4 | Score: -7.2726 | Label: Episodic flaccid weakness (ID: HP:0003752)\n",
      "  Rank 5 | Score: -7.3114 | Label: Intermittent painful muscle spasms (ID: HP:0011964)\n",
      "  Rank 6 | Score: -7.3352 | Label: Facial tics (ID: HP:0011468)\n",
      "  Rank 7 | Score: -7.3371 | Label: Paraplegia (ID: HP:0010550)\n",
      "  Rank 8 | Score: -7.4219 | Label: Generalized muscle weakness (ID: HP:0003324)\n",
      "  Rank 9 | Score: -7.4455 | Label: Generalized weakness of limb muscles (ID: HP:0009028)\n",
      "  Rank 10 | Score: -7.4468 | Label: Episodic hemiplegia (ID: HP:0012194)\n",
      "  Rank 11 | Score: -7.6952 | Label: Proximal to distal progression (ID: HP:6000305)\n",
      "  Rank 12 | Score: -7.7890 | Label: Mitochondrial myopathy (ID: HP:0003737)\n",
      "  Rank 13 | Score: -7.7915 | Label: Entrapment neuropathy of suprascapular nerve (ID: HP:0012216)\n",
      "  Rank 14 | Score: -7.8323 | Label: Lower limb spasticity (ID: HP:0002061)\n",
      "  Rank 15 | Score: -7.8738 | Label: EMG: myokymic discharges (ID: HP:0100288)\n",
      "  Rank 16 | Score: -7.9170 | Label: Abnormal lower-limb motor evoked potentials (ID: HP:0012898)\n",
      "  Rank 17 | Score: -8.0832 | Label: EMG: myotonic runs (ID: HP:0003730)\n",
      "  Rank 18 | Score: -8.1511 | Label: EMG: neuropathic changes (ID: HP:0003445)\n",
      "  Rank 19 | Score: -8.3048 | Label: Froment sign (ID: HP:0032121)\n",
      "  Rank 20 | Score: -8.3449 | Label: EMG: myopathic abnormalities (ID: HP:0003458)\n"
     ]
    }
   ],
   "source": [
    "query=\"at the age of 22, 5 years this German woman experienced muscle cramps, progressive paresis and muscle wasting beginning in one leg and spreading to the other leg without sensory, autonomic or cognitive symptoms. A myopathy was initially suspected but EMG revealed acute and chronic signs of denervation mostly in the legs but also slightly in the upper limbs. Transcortical magnetic evoked potential (MEP) examination was pathological with delayed central conductance time to both lower limbs but not to the upper limbs. Peripheral nerve conduction studies were normal. The medical history was unremarkable except for a voluntarily weight loss of ≈10 kg in the years before appearance of muscle symptoms. Both the parents have diabetes mellitus type 2, but there is no family history of a neuromuscular disease (NMD) or FTD-like condition. The patient eventually received a diagnosis of sALS. The disease has developed slowly, symptoms and signs of upper motor neuron (UMN) and lower motor neuron (LMN) damage only appearing in the upper limbs 3 years after onset in the lower limbs. Nine years after onset of paresis, the patient is alive and still show no bulbar symptoms.\"\n",
    "retrieval_hits=find_hpo_terms_byparagraph(query, hpo_data, hpo_combinedtext_embeddings, model, top_k=20)\n",
    "rerank_crossencoder(query,retrieval_hits)"
   ]
  }
 ],
 "metadata": {
  "kernelspec": {
   "display_name": "llm",
   "language": "python",
   "name": "python3"
  },
  "language_info": {
   "codemirror_mode": {
    "name": "ipython",
    "version": 3
   },
   "file_extension": ".py",
   "mimetype": "text/x-python",
   "name": "python",
   "nbconvert_exporter": "python",
   "pygments_lexer": "ipython3",
   "version": "3.13.5"
  }
 },
 "nbformat": 4,
 "nbformat_minor": 5
}
